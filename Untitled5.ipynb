{
  "nbformat": 4,
  "nbformat_minor": 0,
  "metadata": {
    "colab": {
      "provenance": [],
      "gpuType": "T4",
      "authorship_tag": "ABX9TyPzxUH2IpZU4Thzu7/HMKV6",
      "include_colab_link": true
    },
    "kernelspec": {
      "name": "python3",
      "display_name": "Python 3"
    },
    "language_info": {
      "name": "python"
    },
    "accelerator": "GPU"
  },
  "cells": [
    {
      "cell_type": "markdown",
      "metadata": {
        "id": "view-in-github",
        "colab_type": "text"
      },
      "source": [
        "<a href=\"https://colab.research.google.com/github/Amar1701/DataScienceIntern/blob/main/Untitled5.ipynb\" target=\"_parent\"><img src=\"https://colab.research.google.com/assets/colab-badge.svg\" alt=\"Open In Colab\"/></a>"
      ]
    },
    {
      "cell_type": "code",
      "execution_count": 1,
      "metadata": {
        "id": "d_yqg7yyXgB2",
        "colab": {
          "base_uri": "https://localhost:8080/"
        },
        "outputId": "1db2739a-bddd-43f0-9361-be3aa2d02631"
      },
      "outputs": [
        {
          "output_type": "stream",
          "name": "stdout",
          "text": [
            "Requirement already satisfied: flask in /usr/local/lib/python3.10/dist-packages (2.2.5)\n",
            "Requirement already satisfied: Werkzeug>=2.2.2 in /usr/local/lib/python3.10/dist-packages (from flask) (2.3.7)\n",
            "Requirement already satisfied: Jinja2>=3.0 in /usr/local/lib/python3.10/dist-packages (from flask) (3.1.2)\n",
            "Requirement already satisfied: itsdangerous>=2.0 in /usr/local/lib/python3.10/dist-packages (from flask) (2.1.2)\n",
            "Requirement already satisfied: click>=8.0 in /usr/local/lib/python3.10/dist-packages (from flask) (8.1.7)\n",
            "Requirement already satisfied: MarkupSafe>=2.0 in /usr/local/lib/python3.10/dist-packages (from Jinja2>=3.0->flask) (2.1.3)\n"
          ]
        }
      ],
      "source": [
        "!pip install flask\n"
      ]
    },
    {
      "cell_type": "code",
      "source": [
        "pip install Flask-SQLAlchemy\n"
      ],
      "metadata": {
        "colab": {
          "base_uri": "https://localhost:8080/"
        },
        "id": "VES0Ua-UtfEa",
        "outputId": "6e2703b8-8d0b-4206-f1f5-096c558d3f7b"
      },
      "execution_count": 3,
      "outputs": [
        {
          "output_type": "stream",
          "name": "stdout",
          "text": [
            "Collecting Flask-SQLAlchemy\n",
            "  Downloading flask_sqlalchemy-3.1.1-py3-none-any.whl (25 kB)\n",
            "Requirement already satisfied: flask>=2.2.5 in /usr/local/lib/python3.10/dist-packages (from Flask-SQLAlchemy) (2.2.5)\n",
            "Requirement already satisfied: sqlalchemy>=2.0.16 in /usr/local/lib/python3.10/dist-packages (from Flask-SQLAlchemy) (2.0.20)\n",
            "Requirement already satisfied: Werkzeug>=2.2.2 in /usr/local/lib/python3.10/dist-packages (from flask>=2.2.5->Flask-SQLAlchemy) (2.3.7)\n",
            "Requirement already satisfied: Jinja2>=3.0 in /usr/local/lib/python3.10/dist-packages (from flask>=2.2.5->Flask-SQLAlchemy) (3.1.2)\n",
            "Requirement already satisfied: itsdangerous>=2.0 in /usr/local/lib/python3.10/dist-packages (from flask>=2.2.5->Flask-SQLAlchemy) (2.1.2)\n",
            "Requirement already satisfied: click>=8.0 in /usr/local/lib/python3.10/dist-packages (from flask>=2.2.5->Flask-SQLAlchemy) (8.1.7)\n",
            "Requirement already satisfied: typing-extensions>=4.2.0 in /usr/local/lib/python3.10/dist-packages (from sqlalchemy>=2.0.16->Flask-SQLAlchemy) (4.5.0)\n",
            "Requirement already satisfied: greenlet!=0.4.17 in /usr/local/lib/python3.10/dist-packages (from sqlalchemy>=2.0.16->Flask-SQLAlchemy) (2.0.2)\n",
            "Requirement already satisfied: MarkupSafe>=2.0 in /usr/local/lib/python3.10/dist-packages (from Jinja2>=3.0->flask>=2.2.5->Flask-SQLAlchemy) (2.1.3)\n",
            "Installing collected packages: Flask-SQLAlchemy\n",
            "Successfully installed Flask-SQLAlchemy-3.1.1\n"
          ]
        }
      ]
    },
    {
      "cell_type": "code",
      "source": [
        "pip install Flask-Bcrypt\n"
      ],
      "metadata": {
        "colab": {
          "base_uri": "https://localhost:8080/"
        },
        "id": "ALCYVgD5tnAj",
        "outputId": "8a8d9671-b84c-45e9-8e26-b7c288ec3bf6"
      },
      "execution_count": 5,
      "outputs": [
        {
          "output_type": "stream",
          "name": "stdout",
          "text": [
            "Collecting Flask-Bcrypt\n",
            "  Downloading Flask_Bcrypt-1.0.1-py3-none-any.whl (6.0 kB)\n",
            "Requirement already satisfied: Flask in /usr/local/lib/python3.10/dist-packages (from Flask-Bcrypt) (2.2.5)\n",
            "Collecting bcrypt>=3.1.1 (from Flask-Bcrypt)\n",
            "  Downloading bcrypt-4.0.1-cp36-abi3-manylinux_2_28_x86_64.whl (593 kB)\n",
            "\u001b[2K     \u001b[90m━━━━━━━━━━━━━━━━━━━━━━━━━━━━━━━━━━━━━━━\u001b[0m \u001b[32m593.7/593.7 kB\u001b[0m \u001b[31m7.5 MB/s\u001b[0m eta \u001b[36m0:00:00\u001b[0m\n",
            "\u001b[?25hRequirement already satisfied: Werkzeug>=2.2.2 in /usr/local/lib/python3.10/dist-packages (from Flask->Flask-Bcrypt) (2.3.7)\n",
            "Requirement already satisfied: Jinja2>=3.0 in /usr/local/lib/python3.10/dist-packages (from Flask->Flask-Bcrypt) (3.1.2)\n",
            "Requirement already satisfied: itsdangerous>=2.0 in /usr/local/lib/python3.10/dist-packages (from Flask->Flask-Bcrypt) (2.1.2)\n",
            "Requirement already satisfied: click>=8.0 in /usr/local/lib/python3.10/dist-packages (from Flask->Flask-Bcrypt) (8.1.7)\n",
            "Requirement already satisfied: MarkupSafe>=2.0 in /usr/local/lib/python3.10/dist-packages (from Jinja2>=3.0->Flask->Flask-Bcrypt) (2.1.3)\n",
            "Installing collected packages: bcrypt, Flask-Bcrypt\n",
            "Successfully installed Flask-Bcrypt-1.0.1 bcrypt-4.0.1\n"
          ]
        }
      ]
    },
    {
      "cell_type": "code",
      "source": [
        "import nltk\n",
        "from nltk.corpus import wordnet\n",
        "import random\n",
        "\n",
        "nltk.download('wordnet')\n",
        "\n",
        "# Define placeholders in the document template\n",
        "placeholders = {\n",
        "    'client_name': 'Client Name',\n",
        "    'lawyer_name': 'Lawyer Name',\n",
        "    'start_date': 'Start Date',\n",
        "    'end_date': 'End Date',\n",
        "    'service_description': 'Description of Services',\n",
        "}\n",
        "\n",
        "# Document template\n",
        "template = f\"\"\"\n",
        "[Contract Title]\n",
        "\n",
        "This Agreement (\"Agreement\") is entered into on [start_date] (the \"Effective Date\") by and between [client_name], a party (the \"Client\"), and [lawyer_name], a party (the \"Lawyer\").\n",
        "\n",
        "1. Engagement\n",
        "   1.1 Lawyer agrees to provide legal services to Client as described in Exhibit A (the \"Services\").\n",
        "\n",
        "2. Term\n",
        "   2.1 This Agreement shall commence on [start_date] and shall continue until [end_date] (the \"Term\").\n",
        "\n",
        "3. Payment\n",
        "   3.1 Client shall pay Lawyer the fees as described in Exhibit B (the \"Fees\").\n",
        "\n",
        "4. Termination\n",
        "   4.1 Either party may terminate this Agreement at any time with written notice.\n",
        "\n",
        "[Additional clauses and details can be added here]\n",
        "\n",
        "IN WITNESS WHEREOF, the parties have executed this Agreement as of the Effective Date.\n",
        "\n",
        "Client:\n",
        "[Client's Signature]\n",
        "[Client's Name]\n",
        "\n",
        "Lawyer:\n",
        "[Lawyer's Signature]\n",
        "[Lawyer's Name]\n",
        "\n",
        "Exhibit A: [Service Description]\n",
        "Exhibit B: [Fee Schedule]\n",
        "\"\"\"\n",
        "\n",
        "def generate_contract(data):\n",
        "    document = template\n",
        "    for key, value in data.items():\n",
        "        document = document.replace(f\"[{key}]\", value)\n",
        "    return document\n",
        "\n",
        "if __name__ == \"__main__\":\n",
        "    # Example data\n",
        "    data = {\n",
        "        'client_name': 'John Doe',\n",
        "        'lawyer_name': 'Jane Smith',\n",
        "        'start_date': 'September 1, 2023',\n",
        "        'end_date': 'August 31, 2024',\n",
        "        'service_description': 'Legal consultation and document review.',\n",
        "    }\n",
        "\n",
        "    generated_contract = generate_contract(data)\n",
        "    print(generated_contract)\n"
      ],
      "metadata": {
        "colab": {
          "base_uri": "https://localhost:8080/"
        },
        "id": "0UpIyZJOtUEJ",
        "outputId": "e2f467c9-810f-4964-e6e8-d134e0021264"
      },
      "execution_count": 11,
      "outputs": [
        {
          "output_type": "stream",
          "name": "stdout",
          "text": [
            "\n",
            "[Contract Title]\n",
            "\n",
            "This Agreement (\"Agreement\") is entered into on September 1, 2023 (the \"Effective Date\") by and between John Doe, a party (the \"Client\"), and Jane Smith, a party (the \"Lawyer\").\n",
            "\n",
            "1. Engagement\n",
            "   1.1 Lawyer agrees to provide legal services to Client as described in Exhibit A (the \"Services\").\n",
            "   \n",
            "2. Term\n",
            "   2.1 This Agreement shall commence on September 1, 2023 and shall continue until August 31, 2024 (the \"Term\").\n",
            "\n",
            "3. Payment\n",
            "   3.1 Client shall pay Lawyer the fees as described in Exhibit B (the \"Fees\").\n",
            "\n",
            "4. Termination\n",
            "   4.1 Either party may terminate this Agreement at any time with written notice.\n",
            "\n",
            "[Additional clauses and details can be added here]\n",
            "\n",
            "IN WITNESS WHEREOF, the parties have executed this Agreement as of the Effective Date.\n",
            "\n",
            "Client:\n",
            "[Client's Signature]\n",
            "[Client's Name]\n",
            "\n",
            "Lawyer:\n",
            "[Lawyer's Signature]\n",
            "[Lawyer's Name]\n",
            "\n",
            "Exhibit A: [Service Description]\n",
            "Exhibit B: [Fee Schedule]\n",
            "\n"
          ]
        },
        {
          "output_type": "stream",
          "name": "stderr",
          "text": [
            "[nltk_data] Downloading package wordnet to /root/nltk_data...\n"
          ]
        }
      ]
    },
    {
      "cell_type": "code",
      "source": [],
      "metadata": {
        "id": "hVr1X_yovmmf"
      },
      "execution_count": null,
      "outputs": []
    }
  ]
}